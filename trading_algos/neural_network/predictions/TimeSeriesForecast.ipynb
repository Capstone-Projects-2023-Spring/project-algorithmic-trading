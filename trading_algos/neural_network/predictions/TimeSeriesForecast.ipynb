{
 "cells": [
  {
   "cell_type": "markdown",
   "id": "b37e13e9",
   "metadata": {},
   "source": [
    "This notebook explores a machine learning algorithm to predict the stock prices of SPY, the S&P 500 ETF, and is intended to utilize functions that can be easily translated to a python executable."
   ]
  },
  {
   "cell_type": "code",
   "execution_count": 1,
   "id": "a01bcfef",
   "metadata": {},
   "outputs": [
    {
     "name": "stdout",
     "output_type": "stream",
     "text": [
      "Requirement already satisfied: numpy in c:\\users\\john bernardin\\appdata\\local\\packages\\pythonsoftwarefoundation.python.3.9_qbz5n2kfra8p0\\localcache\\local-packages\\python39\\site-packages (1.23.5)\n",
      "Requirement already satisfied: pandas in c:\\users\\john bernardin\\appdata\\local\\packages\\pythonsoftwarefoundation.python.3.9_qbz5n2kfra8p0\\localcache\\local-packages\\python39\\site-packages (1.5.3)\n",
      "Requirement already satisfied: python-dateutil>=2.8.1 in c:\\users\\john bernardin\\appdata\\local\\packages\\pythonsoftwarefoundation.python.3.9_qbz5n2kfra8p0\\localcache\\local-packages\\python39\\site-packages (from pandas) (2.8.2)\n",
      "Requirement already satisfied: numpy>=1.20.3 in c:\\users\\john bernardin\\appdata\\local\\packages\\pythonsoftwarefoundation.python.3.9_qbz5n2kfra8p0\\localcache\\local-packages\\python39\\site-packages (from pandas) (1.23.5)\n",
      "Requirement already satisfied: pytz>=2020.1 in c:\\users\\john bernardin\\appdata\\local\\packages\\pythonsoftwarefoundation.python.3.9_qbz5n2kfra8p0\\localcache\\local-packages\\python39\\site-packages (from pandas) (2022.7.1)\n",
      "Requirement already satisfied: six>=1.5 in c:\\users\\john bernardin\\appdata\\local\\packages\\pythonsoftwarefoundation.python.3.9_qbz5n2kfra8p0\\localcache\\local-packages\\python39\\site-packages (from python-dateutil>=2.8.1->pandas) (1.16.0)\n",
      "Requirement already satisfied: torch in c:\\users\\john bernardin\\appdata\\local\\packages\\pythonsoftwarefoundation.python.3.9_qbz5n2kfra8p0\\localcache\\local-packages\\python39\\site-packages (1.13.1)\n",
      "Requirement already satisfied: typing-extensions in c:\\users\\john bernardin\\appdata\\local\\packages\\pythonsoftwarefoundation.python.3.9_qbz5n2kfra8p0\\localcache\\local-packages\\python39\\site-packages (from torch) (4.5.0)\n",
      "Requirement already satisfied: matplotlib in c:\\users\\john bernardin\\appdata\\local\\packages\\pythonsoftwarefoundation.python.3.9_qbz5n2kfra8p0\\localcache\\local-packages\\python39\\site-packages (3.7.0)\n",
      "Requirement already satisfied: packaging>=20.0 in c:\\users\\john bernardin\\appdata\\local\\packages\\pythonsoftwarefoundation.python.3.9_qbz5n2kfra8p0\\localcache\\local-packages\\python39\\site-packages (from matplotlib) (23.0)\n",
      "Requirement already satisfied: contourpy>=1.0.1 in c:\\users\\john bernardin\\appdata\\local\\packages\\pythonsoftwarefoundation.python.3.9_qbz5n2kfra8p0\\localcache\\local-packages\\python39\\site-packages (from matplotlib) (1.0.7)\n",
      "Requirement already satisfied: importlib-resources>=3.2.0 in c:\\users\\john bernardin\\appdata\\local\\packages\\pythonsoftwarefoundation.python.3.9_qbz5n2kfra8p0\\localcache\\local-packages\\python39\\site-packages (from matplotlib) (5.12.0)\n",
      "Requirement already satisfied: python-dateutil>=2.7 in c:\\users\\john bernardin\\appdata\\local\\packages\\pythonsoftwarefoundation.python.3.9_qbz5n2kfra8p0\\localcache\\local-packages\\python39\\site-packages (from matplotlib) (2.8.2)\n",
      "Requirement already satisfied: pillow>=6.2.0 in c:\\users\\john bernardin\\appdata\\local\\packages\\pythonsoftwarefoundation.python.3.9_qbz5n2kfra8p0\\localcache\\local-packages\\python39\\site-packages (from matplotlib) (9.4.0)\n",
      "Requirement already satisfied: numpy>=1.20 in c:\\users\\john bernardin\\appdata\\local\\packages\\pythonsoftwarefoundation.python.3.9_qbz5n2kfra8p0\\localcache\\local-packages\\python39\\site-packages (from matplotlib) (1.23.5)\n",
      "Requirement already satisfied: cycler>=0.10 in c:\\users\\john bernardin\\appdata\\local\\packages\\pythonsoftwarefoundation.python.3.9_qbz5n2kfra8p0\\localcache\\local-packages\\python39\\site-packages (from matplotlib) (0.11.0)\n",
      "Requirement already satisfied: kiwisolver>=1.0.1 in c:\\users\\john bernardin\\appdata\\local\\packages\\pythonsoftwarefoundation.python.3.9_qbz5n2kfra8p0\\localcache\\local-packages\\python39\\site-packages (from matplotlib) (1.4.4)\n",
      "Requirement already satisfied: pyparsing>=2.3.1 in c:\\users\\john bernardin\\appdata\\local\\packages\\pythonsoftwarefoundation.python.3.9_qbz5n2kfra8p0\\localcache\\local-packages\\python39\\site-packages (from matplotlib) (3.0.9)\n",
      "Requirement already satisfied: fonttools>=4.22.0 in c:\\users\\john bernardin\\appdata\\local\\packages\\pythonsoftwarefoundation.python.3.9_qbz5n2kfra8p0\\localcache\\local-packages\\python39\\site-packages (from matplotlib) (4.38.0)\n",
      "Requirement already satisfied: zipp>=3.1.0 in c:\\users\\john bernardin\\appdata\\local\\packages\\pythonsoftwarefoundation.python.3.9_qbz5n2kfra8p0\\localcache\\local-packages\\python39\\site-packages (from importlib-resources>=3.2.0->matplotlib) (3.15.0)\n",
      "Requirement already satisfied: six>=1.5 in c:\\users\\john bernardin\\appdata\\local\\packages\\pythonsoftwarefoundation.python.3.9_qbz5n2kfra8p0\\localcache\\local-packages\\python39\\site-packages (from python-dateutil>=2.7->matplotlib) (1.16.0)\n",
      "Requirement already satisfied: alpha_vantage in c:\\users\\john bernardin\\appdata\\local\\packages\\pythonsoftwarefoundation.python.3.9_qbz5n2kfra8p0\\localcache\\local-packages\\python39\\site-packages (2.3.1)\n",
      "Requirement already satisfied: requests in c:\\users\\john bernardin\\appdata\\local\\packages\\pythonsoftwarefoundation.python.3.9_qbz5n2kfra8p0\\localcache\\local-packages\\python39\\site-packages (from alpha_vantage) (2.21.0)\n",
      "Requirement already satisfied: aiohttp in c:\\users\\john bernardin\\appdata\\local\\packages\\pythonsoftwarefoundation.python.3.9_qbz5n2kfra8p0\\localcache\\local-packages\\python39\\site-packages (from alpha_vantage) (3.8.4)\n",
      "Requirement already satisfied: async-timeout<5.0,>=4.0.0a3 in c:\\users\\john bernardin\\appdata\\local\\packages\\pythonsoftwarefoundation.python.3.9_qbz5n2kfra8p0\\localcache\\local-packages\\python39\\site-packages (from aiohttp->alpha_vantage) (4.0.2)\n",
      "Requirement already satisfied: multidict<7.0,>=4.5 in c:\\users\\john bernardin\\appdata\\local\\packages\\pythonsoftwarefoundation.python.3.9_qbz5n2kfra8p0\\localcache\\local-packages\\python39\\site-packages (from aiohttp->alpha_vantage) (6.0.4)\n",
      "Requirement already satisfied: yarl<2.0,>=1.0 in c:\\users\\john bernardin\\appdata\\local\\packages\\pythonsoftwarefoundation.python.3.9_qbz5n2kfra8p0\\localcache\\local-packages\\python39\\site-packages (from aiohttp->alpha_vantage) (1.8.2)\n",
      "Requirement already satisfied: charset-normalizer<4.0,>=2.0 in c:\\users\\john bernardin\\appdata\\local\\packages\\pythonsoftwarefoundation.python.3.9_qbz5n2kfra8p0\\localcache\\local-packages\\python39\\site-packages (from aiohttp->alpha_vantage) (3.0.1)\n",
      "Requirement already satisfied: attrs>=17.3.0 in c:\\users\\john bernardin\\appdata\\local\\packages\\pythonsoftwarefoundation.python.3.9_qbz5n2kfra8p0\\localcache\\local-packages\\python39\\site-packages (from aiohttp->alpha_vantage) (22.2.0)\n",
      "Requirement already satisfied: frozenlist>=1.1.1 in c:\\users\\john bernardin\\appdata\\local\\packages\\pythonsoftwarefoundation.python.3.9_qbz5n2kfra8p0\\localcache\\local-packages\\python39\\site-packages (from aiohttp->alpha_vantage) (1.3.3)\n",
      "Requirement already satisfied: aiosignal>=1.1.2 in c:\\users\\john bernardin\\appdata\\local\\packages\\pythonsoftwarefoundation.python.3.9_qbz5n2kfra8p0\\localcache\\local-packages\\python39\\site-packages (from aiohttp->alpha_vantage) (1.3.1)\n",
      "Requirement already satisfied: urllib3<1.25,>=1.21.1 in c:\\users\\john bernardin\\appdata\\local\\packages\\pythonsoftwarefoundation.python.3.9_qbz5n2kfra8p0\\localcache\\local-packages\\python39\\site-packages (from requests->alpha_vantage) (1.24.3)\n",
      "Requirement already satisfied: chardet<3.1.0,>=3.0.2 in c:\\users\\john bernardin\\appdata\\local\\packages\\pythonsoftwarefoundation.python.3.9_qbz5n2kfra8p0\\localcache\\local-packages\\python39\\site-packages (from requests->alpha_vantage) (3.0.4)\n",
      "Requirement already satisfied: certifi>=2017.4.17 in c:\\users\\john bernardin\\appdata\\local\\packages\\pythonsoftwarefoundation.python.3.9_qbz5n2kfra8p0\\localcache\\local-packages\\python39\\site-packages (from requests->alpha_vantage) (2022.12.7)\n",
      "Requirement already satisfied: idna<2.9,>=2.5 in c:\\users\\john bernardin\\appdata\\local\\packages\\pythonsoftwarefoundation.python.3.9_qbz5n2kfra8p0\\localcache\\local-packages\\python39\\site-packages (from requests->alpha_vantage) (2.8)\n",
      "Requirement already satisfied: scikit-learn in c:\\users\\john bernardin\\appdata\\local\\packages\\pythonsoftwarefoundation.python.3.9_qbz5n2kfra8p0\\localcache\\local-packages\\python39\\site-packages (1.2.1)\n",
      "Requirement already satisfied: scipy>=1.3.2 in c:\\users\\john bernardin\\appdata\\local\\packages\\pythonsoftwarefoundation.python.3.9_qbz5n2kfra8p0\\localcache\\local-packages\\python39\\site-packages (from scikit-learn) (1.10.1)\n",
      "Requirement already satisfied: threadpoolctl>=2.0.0 in c:\\users\\john bernardin\\appdata\\local\\packages\\pythonsoftwarefoundation.python.3.9_qbz5n2kfra8p0\\localcache\\local-packages\\python39\\site-packages (from scikit-learn) (3.1.0)\n",
      "Requirement already satisfied: joblib>=1.1.1 in c:\\users\\john bernardin\\appdata\\local\\packages\\pythonsoftwarefoundation.python.3.9_qbz5n2kfra8p0\\localcache\\local-packages\\python39\\site-packages (from scikit-learn) (1.2.0)\n",
      "Requirement already satisfied: numpy>=1.17.3 in c:\\users\\john bernardin\\appdata\\local\\packages\\pythonsoftwarefoundation.python.3.9_qbz5n2kfra8p0\\localcache\\local-packages\\python39\\site-packages (from scikit-learn) (1.23.5)\n"
     ]
    },
    {
     "name": "stdout",
     "output_type": "stream",
     "text": [
      "Requirement already satisfied: pandas_market_calendars in c:\\users\\john bernardin\\appdata\\local\\packages\\pythonsoftwarefoundation.python.3.9_qbz5n2kfra8p0\\localcache\\local-packages\\python39\\site-packages (4.1.4)\n",
      "Requirement already satisfied: pandas>=1.1 in c:\\users\\john bernardin\\appdata\\local\\packages\\pythonsoftwarefoundation.python.3.9_qbz5n2kfra8p0\\localcache\\local-packages\\python39\\site-packages (from pandas_market_calendars) (1.5.3)\n",
      "Requirement already satisfied: exchange-calendars>=3.3 in c:\\users\\john bernardin\\appdata\\local\\packages\\pythonsoftwarefoundation.python.3.9_qbz5n2kfra8p0\\localcache\\local-packages\\python39\\site-packages (from pandas_market_calendars) (4.2.5)\n",
      "Requirement already satisfied: pytz in c:\\users\\john bernardin\\appdata\\local\\packages\\pythonsoftwarefoundation.python.3.9_qbz5n2kfra8p0\\localcache\\local-packages\\python39\\site-packages (from pandas_market_calendars) (2022.7.1)\n",
      "Requirement already satisfied: python-dateutil in c:\\users\\john bernardin\\appdata\\local\\packages\\pythonsoftwarefoundation.python.3.9_qbz5n2kfra8p0\\localcache\\local-packages\\python39\\site-packages (from pandas_market_calendars) (2.8.2)\n",
      "Requirement already satisfied: toolz in c:\\users\\john bernardin\\appdata\\local\\packages\\pythonsoftwarefoundation.python.3.9_qbz5n2kfra8p0\\localcache\\local-packages\\python39\\site-packages (from exchange-calendars>=3.3->pandas_market_calendars) (0.12.0)\n",
      "Requirement already satisfied: korean-lunar-calendar in c:\\users\\john bernardin\\appdata\\local\\packages\\pythonsoftwarefoundation.python.3.9_qbz5n2kfra8p0\\localcache\\local-packages\\python39\\site-packages (from exchange-calendars>=3.3->pandas_market_calendars) (0.3.1)\n",
      "Requirement already satisfied: pyluach in c:\\users\\john bernardin\\appdata\\local\\packages\\pythonsoftwarefoundation.python.3.9_qbz5n2kfra8p0\\localcache\\local-packages\\python39\\site-packages (from exchange-calendars>=3.3->pandas_market_calendars) (2.2.0)\n",
      "Requirement already satisfied: numpy in c:\\users\\john bernardin\\appdata\\local\\packages\\pythonsoftwarefoundation.python.3.9_qbz5n2kfra8p0\\localcache\\local-packages\\python39\\site-packages (from exchange-calendars>=3.3->pandas_market_calendars) (1.23.5)\n",
      "Requirement already satisfied: six>=1.5 in c:\\users\\john bernardin\\appdata\\local\\packages\\pythonsoftwarefoundation.python.3.9_qbz5n2kfra8p0\\localcache\\local-packages\\python39\\site-packages (from python-dateutil->pandas_market_calendars) (1.16.0)\n"
     ]
    }
   ],
   "source": [
    "# installing dependencies\n",
    "!pip install numpy\n",
    "!pip install pandas\n",
    "!pip install torch\n",
    "!pip install matplotlib\n",
    "!pip install alpha_vantage\n",
    "!pip install scikit-learn\n",
    "!pip install pandas_market_calendars"
   ]
  },
  {
   "cell_type": "code",
   "execution_count": 2,
   "id": "26129c3d",
   "metadata": {},
   "outputs": [],
   "source": [
    "# import libararies\n",
    "import numpy as np\n",
    "import pandas as pd\n",
    "import torch\n",
    "import torch.nn as nn\n",
    "import torch.nn.functional as F\n",
    "import torch.optim as optim\n",
    "from torch.utils.data import Dataset\n",
    "from torch.utils.data import DataLoader\n",
    "import matplotlib.pyplot as plt\n",
    "from matplotlib.pyplot import figure\n",
    "from alpha_vantage.timeseries import TimeSeries \n",
    "from sklearn.metrics import mean_absolute_error\n",
    "from sklearn.metrics import mean_squared_error\n",
    "from datetime import datetime,timedelta\n",
    "from dateutil.relativedelta import relativedelta\n",
    "import pandas_market_calendars as mcal"
   ]
  },
  {
   "cell_type": "code",
   "execution_count": 3,
   "id": "1eb7b7a6",
   "metadata": {},
   "outputs": [],
   "source": [
    "# config file (placing here for now, some fields will change on later impplementations)\n",
    "\n",
    "config = {\n",
    "    \"alpha_vantage\": {\n",
    "        \"key\": \"2JMCN347HZ3BU9RC\", \n",
    "        \"symbol\": \"SPY\",\n",
    "        \"outputsize\": \"full\",\n",
    "        \"key_adjusted_close\": \"5. adjusted close\",\n",
    "    },\n",
    "    \"data\": {\n",
    "        \"window_size\": 30,\n",
    "        \"train_split_size\": 1,\n",
    "    }, \n",
    "    \"plots\": {\n",
    "        \"xticks_interval\": 90, # show a date every 90 days\n",
    "        \"color_actual\": \"#001f3f\",\n",
    "        \"color_train\": \"#3D9970\",\n",
    "        \"color_val\": \"#0074D9\",\n",
    "        \"color_pred_train\": \"#3D9970\",\n",
    "        \"color_pred_val\": \"#0074D9\",\n",
    "        \"color_pred_test\": \"#FF4136\",\n",
    "    },\n",
    "    \"model\": {\n",
    "        \"input_size\": 1, # since for now we are only using close price\n",
    "        \"num_lstm_layers\": 2,\n",
    "        \"lstm_size\": 32,\n",
    "        \"dropout\": 0.2,\n",
    "    },\n",
    "    \"training\": {\n",
    "        \"device\": \"cpu\",\n",
    "        \"batch_size\": 64,\n",
    "        \"num_epoch\": 100,\n",
    "        \"epoch_stop\": 10,\n",
    "        \"learning_rate\": 0.01,\n",
    "        \"scheduler_step_size\": 40,\n",
    "    }\n",
    "}"
   ]
  },
  {
   "cell_type": "code",
   "execution_count": 4,
   "id": "b1435ae4",
   "metadata": {},
   "outputs": [
    {
     "name": "stdout",
     "output_type": "stream",
     "text": [
      "Number data points 5887 from 1999-11-01 to 2023-03-24\n"
     ]
    },
    {
     "data": {
      "text/plain": [
       "array([ 88.21718508,  87.58674188,  88.17651326, ..., 392.11      ,\n",
       "       393.17      , 395.75      ])"
      ]
     },
     "execution_count": 4,
     "metadata": {},
     "output_type": "execute_result"
    }
   ],
   "source": [
    "# get data from the configuration file\n",
    "def get_data(config):\n",
    "    ts = TimeSeries(key=config[\"alpha_vantage\"][\"key\"]) \n",
    "    data, meta_data = ts.get_daily_adjusted(config[\"alpha_vantage\"][\"symbol\"], outputsize=config[\"alpha_vantage\"][\"outputsize\"])\n",
    "\n",
    "    date_data = [date for date in data.keys()]\n",
    "    date_data.reverse()\n",
    "\n",
    "    close_price_data = [float(data[date][config[\"alpha_vantage\"][\"key_adjusted_close\"]]) for date in data.keys()]\n",
    "    close_price_data.reverse()\n",
    "    close_price_data = np.array(close_price_data)\n",
    "\n",
    "    num_data_points = len(date_data)\n",
    "    display_date_range = \"from \" + date_data[0] + \" to \" + date_data[num_data_points-1]\n",
    "    print(\"Number data points\", num_data_points, display_date_range)\n",
    "\n",
    "    return date_data, close_price_data, num_data_points, display_date_range\n",
    "\n",
    "\n",
    "date_data, close_price_data, num_data_points, display_date_range = get_data(config)\n",
    "\n",
    "close_price_data\n"
   ]
  },
  {
   "cell_type": "code",
   "execution_count": 5,
   "id": "b615520c",
   "metadata": {},
   "outputs": [
    {
     "data": {
      "text/plain": [
       "array([-0.69745504, -0.70343252, -0.69784066, ...,  2.18387452,\n",
       "        2.19392481,  2.21838682])"
      ]
     },
     "execution_count": 5,
     "metadata": {},
     "output_type": "execute_result"
    }
   ],
   "source": [
    "# class with functions to normalize the data for more accurate predictions\n",
    "\n",
    "class Normalization():\n",
    "    def __init__(self):\n",
    "        self.mu = None\n",
    "        self.sd = None\n",
    "\n",
    "    def fit_transform(self, x):\n",
    "        self.mu = np.mean(x, axis=(0), keepdims=True)\n",
    "        self.sd = np.std(x, axis=(0), keepdims=True)\n",
    "        normalized_x = (x - self.mu)/self.sd\n",
    "        return normalized_x\n",
    "\n",
    "    def inverse_transform(self, x):\n",
    "        return (x*self.sd) + self.mu\n",
    "\n",
    "    \n",
    "scaler = Normalization()\n",
    "normalized_close_price_data = scaler.fit_transform(close_price_data)\n",
    "normalized_close_price_data"
   ]
  },
  {
   "cell_type": "code",
   "execution_count": 6,
   "id": "cd452387",
   "metadata": {},
   "outputs": [],
   "source": [
    "# prep for data training\n",
    "\n",
    "def prepare_data_x(x, window_size):\n",
    "    # perform windowing\n",
    "    n_row = x.shape[0] - window_size + 1\n",
    "    output = np.lib.stride_tricks.as_strided(x, shape=(n_row, window_size), strides=(x.strides[0], x.strides[0]))\n",
    "    return output[:-1], output[-1]\n",
    "\n",
    "\n",
    "def prepare_data_y(x, window_size):\n",
    "    # use the next day as label\n",
    "    output = x[window_size:]\n",
    "    return output\n",
    "\n",
    "data_x, data_x_unseen = prepare_data_x(normalized_close_price_data, window_size=config[\"data\"][\"window_size\"])\n",
    "data_y = prepare_data_y(normalized_close_price_data, window_size=config[\"data\"][\"window_size\"])"
   ]
  },
  {
   "cell_type": "code",
   "execution_count": 7,
   "id": "d2a70ae9",
   "metadata": {},
   "outputs": [],
   "source": [
    "# split dataset into training and validation sets\n",
    "\n",
    "split_index = int(data_y.shape[0]*config[\"data\"][\"train_split_size\"])\n",
    "data_x_train = data_x[:split_index]\n",
    "data_x_val = data_x[split_index:]\n",
    "data_y_train = data_y[:split_index]\n",
    "data_y_val = data_y[split_index:]"
   ]
  },
  {
   "cell_type": "code",
   "execution_count": 8,
   "id": "148bb89b",
   "metadata": {},
   "outputs": [
    {
     "name": "stdout",
     "output_type": "stream",
     "text": [
      "Train data shape (5857, 30, 1) (5857,)\n"
     ]
    }
   ],
   "source": [
    "# Class to prepare data for training and LSTM model\n",
    "class TimeSeriesDataset(Dataset):\n",
    "    def __init__(self, x, y):\n",
    "        x = np.expand_dims(x, 2) # right now we have only 1 feature, so we need to convert `x` into [batch, sequence, features]\n",
    "        self.x = x.astype(np.float32)\n",
    "        self.y = y.astype(np.float32)\n",
    "        \n",
    "    def __len__(self):\n",
    "        return len(self.x)\n",
    "\n",
    "    def __getitem__(self, idx):\n",
    "        return (self.x[idx], self.y[idx])\n",
    "\n",
    "# prepare and shuffle data\n",
    "\n",
    "train_dataset = TimeSeriesDataset(data_x_train, data_y_train)\n",
    "\n",
    "print(\"Train data shape\", train_dataset.x.shape, train_dataset.y.shape)\n",
    "\n",
    "train_dataloader = DataLoader(train_dataset, batch_size=config[\"training\"][\"batch_size\"], shuffle=True)"
   ]
  },
  {
   "cell_type": "code",
   "execution_count": 9,
   "id": "08fa8c14",
   "metadata": {},
   "outputs": [],
   "source": [
    "# neural network model definition\n",
    "\n",
    "class LSTMModel(nn.Module):\n",
    "    def __init__(self, input_size=1, hidden_layer_size=32, num_layers=2, output_size=1, dropout=0.2):\n",
    "        super().__init__()\n",
    "        self.hidden_layer_size = hidden_layer_size\n",
    "\n",
    "        self.linear_1 = nn.Linear(input_size, hidden_layer_size)\n",
    "        self.relu = nn.ReLU()\n",
    "        self.lstm = nn.LSTM(hidden_layer_size, hidden_size=self.hidden_layer_size, num_layers=num_layers, batch_first=True)\n",
    "        self.dropout = nn.Dropout(dropout)\n",
    "        self.linear_2 = nn.Linear(num_layers*hidden_layer_size, output_size)\n",
    "        \n",
    "        self.init_weights()\n",
    "\n",
    "    def init_weights(self):\n",
    "        for name, param in self.lstm.named_parameters():\n",
    "            if 'bias' in name:\n",
    "                 nn.init.constant_(param, 0.0)\n",
    "            elif 'weight_ih' in name:\n",
    "                 nn.init.kaiming_normal_(param)\n",
    "            elif 'weight_hh' in name:\n",
    "                 nn.init.orthogonal_(param)\n",
    "\n",
    "    def forward(self, x):\n",
    "        batchsize = x.shape[0]\n",
    "\n",
    "        # layer 1\n",
    "        x = self.linear_1(x)\n",
    "        x = self.relu(x)\n",
    "        \n",
    "        # LSTM layer\n",
    "        lstm_out, (h_n, c_n) = self.lstm(x)\n",
    "\n",
    "        # reshape output from hidden cell into [batch, features] for `linear_2`\n",
    "        x = h_n.permute(1, 0, 2).reshape(batchsize, -1) \n",
    "        \n",
    "        # layer 2\n",
    "        x = self.dropout(x)\n",
    "        predictions = self.linear_2(x)\n",
    "        return predictions[:,-1]"
   ]
  },
  {
   "cell_type": "code",
   "execution_count": 10,
   "id": "6fb2ba79",
   "metadata": {},
   "outputs": [],
   "source": [
    "# function for training LSTM model\n",
    "\n",
    "def run_epoch(dataloader, is_training=False):\n",
    "    epoch_loss = 0\n",
    "\n",
    "    if is_training:\n",
    "        model.train()\n",
    "    else:\n",
    "        model.eval()\n",
    "\n",
    "    for idx, (x, y) in enumerate(dataloader):\n",
    "        if is_training:\n",
    "            optimizer.zero_grad()\n",
    "\n",
    "        batchsize = x.shape[0]\n",
    "\n",
    "        x = x.to(config[\"training\"][\"device\"])\n",
    "        y = y.to(config[\"training\"][\"device\"])\n",
    "\n",
    "        out = model(x)\n",
    "        loss = criterion(out.contiguous(), y.contiguous())\n",
    "\n",
    "        if is_training:\n",
    "            loss.backward()\n",
    "            optimizer.step()\n",
    "\n",
    "        epoch_loss += (loss.detach().item() / batchsize)\n",
    "\n",
    "    lr = scheduler.get_last_lr()[0]\n",
    "\n",
    "    return epoch_loss, lr\n"
   ]
  },
  {
   "cell_type": "code",
   "execution_count": 11,
   "id": "59f7594b",
   "metadata": {},
   "outputs": [
    {
     "name": "stdout",
     "output_type": "stream",
     "text": [
      "Epoch[1/100] | loss train:0.080056| lr:0.010000\n",
      "Epoch[2/100] | loss train:0.015383| lr:0.010000\n",
      "Epoch[3/100] | loss train:0.013137| lr:0.010000\n",
      "Epoch[4/100] | loss train:0.011916| lr:0.010000\n",
      "Epoch[5/100] | loss train:0.011479| lr:0.010000\n",
      "Epoch[6/100] | loss train:0.011825| lr:0.010000\n",
      "Epoch[7/100] | loss train:0.010169| lr:0.010000\n",
      "Epoch[8/100] | loss train:0.010285| lr:0.010000\n",
      "Epoch[9/100] | loss train:0.010507| lr:0.010000\n",
      "Epoch[10/100] | loss train:0.009795| lr:0.010000\n",
      "Epoch[11/100] | loss train:0.011377| lr:0.010000\n",
      "Epoch[12/100] | loss train:0.010299| lr:0.010000\n",
      "Epoch[13/100] | loss train:0.011874| lr:0.010000\n",
      "Epoch[14/100] | loss train:0.009996| lr:0.010000\n",
      "Epoch[15/100] | loss train:0.010155| lr:0.010000\n",
      "Epoch[16/100] | loss train:0.009313| lr:0.010000\n",
      "Epoch[17/100] | loss train:0.010244| lr:0.010000\n",
      "Epoch[18/100] | loss train:0.009489| lr:0.010000\n",
      "Epoch[19/100] | loss train:0.010539| lr:0.010000\n",
      "Epoch[20/100] | loss train:0.010043| lr:0.010000\n",
      "Epoch[21/100] | loss train:0.009483| lr:0.010000\n",
      "Epoch[22/100] | loss train:0.009557| lr:0.010000\n",
      "Epoch[23/100] | loss train:0.008868| lr:0.010000\n",
      "Epoch[24/100] | loss train:0.010265| lr:0.010000\n",
      "Epoch[25/100] | loss train:0.010071| lr:0.010000\n",
      "Epoch[26/100] | loss train:0.009864| lr:0.010000\n",
      "Epoch[27/100] | loss train:0.009192| lr:0.010000\n",
      "Epoch[28/100] | loss train:0.010154| lr:0.010000\n",
      "Epoch[29/100] | loss train:0.009133| lr:0.010000\n",
      "Epoch[30/100] | loss train:0.009295| lr:0.010000\n",
      "Epoch[31/100] | loss train:0.008975| lr:0.010000\n",
      "Epoch[32/100] | loss train:0.010291| lr:0.010000\n",
      "Epoch[33/100] | loss train:0.008972| lr:0.010000\n",
      "Early stopping.\n"
     ]
    }
   ],
   "source": [
    "# train the data\n",
    "\n",
    "train_dataloader = DataLoader(train_dataset, batch_size=config[\"training\"][\"batch_size\"], shuffle=True)\n",
    "\n",
    "model = LSTMModel(input_size=config[\"model\"][\"input_size\"], hidden_layer_size=config[\"model\"][\"lstm_size\"], num_layers=config[\"model\"][\"num_lstm_layers\"], output_size=1, dropout=config[\"model\"][\"dropout\"])\n",
    "model = model.to(config[\"training\"][\"device\"])\n",
    "\n",
    "criterion = nn.MSELoss()\n",
    "optimizer = optim.Adam(model.parameters(), lr=config[\"training\"][\"learning_rate\"], betas=(0.9, 0.98), eps=1e-9)\n",
    "scheduler = optim.lr_scheduler.StepLR(optimizer, step_size=config[\"training\"][\"scheduler_step_size\"], gamma=0.1)\n",
    "\n",
    "best_loss = np.inf\n",
    "epochs_no_improve = 0\n",
    "n_epochs_stop = config[\"training\"][\"epoch_stop\"]\n",
    "for epoch in range(config[\"training\"][\"num_epoch\"]):\n",
    "    loss_train, lr_train = run_epoch(train_dataloader, is_training=True)\n",
    "    scheduler.step()\n",
    "    \n",
    "    print('Epoch[{}/{}] | loss train:{:.6f}| lr:{:.6f}'\n",
    "              .format(epoch+1, config[\"training\"][\"num_epoch\"], loss_train, lr_train))\n",
    "    if loss_train < best_loss:\n",
    "        best_loss = loss_train\n",
    "        epochs_no_improve = 0\n",
    "    else:\n",
    "        epochs_no_improve += 1\n",
    "    if epochs_no_improve == n_epochs_stop:\n",
    "        print(\"Early stopping.\")\n",
    "        break"
   ]
  },
  {
   "cell_type": "code",
   "execution_count": 12,
   "id": "63004a1f",
   "metadata": {},
   "outputs": [
    {
     "name": "stdout",
     "output_type": "stream",
     "text": [
      "Mean absolute error:  1.9108791966545773\n",
      "Root mean squared error:  6.94512388482604\n"
     ]
    }
   ],
   "source": [
    "# here we re-initialize dataloader so the data doesn't shuffled, so we can plot the values by date\n",
    "\n",
    "train_dataloader = DataLoader(train_dataset, batch_size=config[\"training\"][\"batch_size\"], shuffle=False)\n",
    "\n",
    "model.eval()\n",
    "\n",
    "# predict on the training data, to see how well the model managed to learn and memorize\n",
    "\n",
    "predicted_train = np.array([])\n",
    "\n",
    "for idx, (x, y) in enumerate(train_dataloader):\n",
    "    x = x.to(config[\"training\"][\"device\"])\n",
    "    out = model(x)\n",
    "    out = out.cpu().detach().numpy()\n",
    "    predicted_train = np.concatenate((predicted_train, out))\n",
    "\n",
    "# predict on the validation data, to see how the model does  \n",
    "\n",
    "data_y_train_pred = np.zeros(num_data_points)\n",
    "data_y_val_pred = np.zeros(num_data_points)\n",
    "\n",
    "data_y_train_pred[config[\"data\"][\"window_size\"]:split_index+config[\"data\"][\"window_size\"]] = scaler.inverse_transform(predicted_train)\n",
    "\n",
    "mae = mean_absolute_error(close_price_data, data_y_train_pred + data_y_val_pred)\n",
    "print(\"Mean absolute error: \", mae)\n",
    "\n",
    "rmse = np.sqrt(mean_squared_error(close_price_data, data_y_train_pred+data_y_val_pred))\n",
    "print(\"Root mean squared error: \", rmse)\n",
    "\n",
    "data_y_train_pred = np.where(data_y_train_pred == 0, None, data_y_train_pred)"
   ]
  },
  {
   "cell_type": "code",
   "execution_count": 13,
   "id": "b0bfdf66",
   "metadata": {
    "scrolled": true
   },
   "outputs": [
    {
     "data": {
      "text/plain": [
       "'2023-03-27'"
      ]
     },
     "execution_count": 13,
     "metadata": {},
     "output_type": "execute_result"
    }
   ],
   "source": [
    "model.eval()\n",
    "\n",
    "n = num_data_points\n",
    "next_weeks = mcal.date_range(mcal.get_calendar('NYSE').schedule(start_date=date_data[n-1], end_date=(datetime.strptime(date_data[n-1],'%Y-%m-%d')+relativedelta(months=1)).strftime('%Y-%m-%d')), frequency='1D')\n",
    "next_weeks = [date.strftime('%Y-%m-%d') for date in next_weeks]\n",
    "next_weeks = next_weeks[1:]\n",
    "next_day = next_weeks[0]\n",
    "next_day"
   ]
  },
  {
   "cell_type": "code",
   "execution_count": 14,
   "id": "fc9acd3e",
   "metadata": {},
   "outputs": [
    {
     "data": {
      "text/plain": [
       "397.11868"
      ]
     },
     "execution_count": 14,
     "metadata": {},
     "output_type": "execute_result"
    }
   ],
   "source": [
    "torch.tensor(data_x_unseen)\n",
    "x = torch.tensor(data_x_unseen).float().to(config[\"training\"][\"device\"]).unsqueeze(0).unsqueeze(2) # this is the data type and shape required, [batch, sequence, feature]\n",
    "prediction = model(x)\n",
    "prediction = prediction.cpu().detach().numpy()\n",
    "prediction[0] = scaler.inverse_transform(prediction[0])\n",
    "prediction[0]\n",
    "\n",
    "# print(x)\n",
    "# prediction = []\n",
    "# for _ in range(1,len(next_weeks)):\n",
    "#     yhat = model(x)\n",
    "#     yhat = yhat.cpu().detach().numpy()\n",
    "#     xarray = np.concatenate((x[0].numpy(),[yhat]))\n",
    "#     np.expand_dims(xarray,1)\n",
    "#     print(xarray)\n",
    "#     yhat = scaler.inverse_transform(yhat)\n",
    "#     prediction.append(yhat)\n",
    "#     x = torch.tensor([xarray])\n",
    "    \n",
    "# prediction"
   ]
  },
  {
   "cell_type": "code",
   "execution_count": 15,
   "id": "d98a1ccc",
   "metadata": {},
   "outputs": [
    {
     "data": {
      "text/html": [
       "<div>\n",
       "<style scoped>\n",
       "    .dataframe tbody tr th:only-of-type {\n",
       "        vertical-align: middle;\n",
       "    }\n",
       "\n",
       "    .dataframe tbody tr th {\n",
       "        vertical-align: top;\n",
       "    }\n",
       "\n",
       "    .dataframe thead th {\n",
       "        text-align: right;\n",
       "    }\n",
       "</style>\n",
       "<table border=\"1\" class=\"dataframe\">\n",
       "  <thead>\n",
       "    <tr style=\"text-align: right;\">\n",
       "      <th></th>\n",
       "      <th>date</th>\n",
       "      <th>close price</th>\n",
       "    </tr>\n",
       "  </thead>\n",
       "  <tbody>\n",
       "    <tr>\n",
       "      <th>0</th>\n",
       "      <td>2023-03-27</td>\n",
       "      <td>397.118683</td>\n",
       "    </tr>\n",
       "  </tbody>\n",
       "</table>\n",
       "</div>"
      ],
      "text/plain": [
       "         date  close price\n",
       "0  2023-03-27   397.118683"
      ]
     },
     "execution_count": 15,
     "metadata": {},
     "output_type": "execute_result"
    }
   ],
   "source": [
    "df = pd.DataFrame([[next_day,prediction[0]]], columns = ['date','close price'])\n",
    "df.to_csv(\"csv/TimeSeries/SPY_predict.csv\")\n",
    "df"
   ]
  }
 ],
 "metadata": {
  "kernelspec": {
   "display_name": "Python 3 (ipykernel)",
   "language": "python",
   "name": "python3"
  },
  "language_info": {
   "codemirror_mode": {
    "name": "ipython",
    "version": 3
   },
   "file_extension": ".py",
   "mimetype": "text/x-python",
   "name": "python",
   "nbconvert_exporter": "python",
   "pygments_lexer": "ipython3",
   "version": "3.9.13"
  }
 },
 "nbformat": 4,
 "nbformat_minor": 5
}
